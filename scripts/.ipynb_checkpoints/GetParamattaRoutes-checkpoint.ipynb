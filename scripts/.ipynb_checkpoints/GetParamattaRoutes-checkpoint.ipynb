{
 "cells": [
  {
   "cell_type": "code",
   "execution_count": 1,
   "metadata": {
    "button": false,
    "collapsed": false,
    "deletable": true,
    "run_control": {
     "read_only": false
    }
   },
   "outputs": [],
   "source": [
    "#with open('/Users/ramz.sivagurunathan/hacks/hackathon/datasets/routes/parramatta_routes_regular.txt') as fp:\n",
    "with open('/Users/ramz.sivagurunathan/hacks/hackathon/datasets/routes/parramatta_routes_train.txt') as fp:\n",
    "    routes = [line.strip() for line in fp.readlines()]\n",
    "routes = set(routes)"
   ]
  },
  {
   "cell_type": "code",
   "execution_count": 30,
   "metadata": {
    "button": false,
    "collapsed": false,
    "deletable": true,
    "run_control": {
     "read_only": false
    }
   },
   "outputs": [],
   "source": [
    "import csv\n",
    "with open('/Users/ramz.sivagurunathan/hacks/hackathon/datasets/routes/shapes_paramatta.txt', 'wb') as outfile:\n",
    "    writer = csv.writer(outfile)\n",
    "    with open('/Users/ramz.sivagurunathan/hacks/hackathon/datasets/routes/shapes.txt', 'rb') as csvfile:\n",
    "        shapes_data = csv.reader(csvfile)\n",
    "        i = 0\n",
    "        for row in shapes_data:\n",
    "            shape_id = row[0]\n",
    "            if shape_id in routes:\n",
    "                writer.writerows([row])"
   ]
  },
  {
   "cell_type": "code",
   "execution_count": 36,
   "metadata": {
    "button": false,
    "collapsed": false,
    "deletable": true,
    "run_control": {
     "read_only": false
    }
   },
   "outputs": [],
   "source": [
    "import json\n",
    "\n",
    "with open('/Users/ramz.sivagurunathan/hacks/hackathon/datasets/routes/shapes_paramatta.txt', 'rb') as fp:\n",
    "    shapes_data = csv.reader(fp)\n",
    "    route_dict = {}\n",
    "    i = 0\n",
    "    for row in shapes_data:\n",
    "        route_info = route_dict.get(row[0], [])\n",
    "        route_info.append([row[1], row[2]])\n",
    "        i = i + 1\n",
    "        route_dict[row[0]] = route_info\n",
    "        \n",
    "with open('/Users/ramz.sivagurunathan/hacks/hackathon/code/parramatta_route_path.json', 'wb') as fp:\n",
    "    json.dump(route_dict, fp)"
   ]
  },
  {
   "cell_type": "code",
   "execution_count": 2,
   "metadata": {
    "button": false,
    "collapsed": false,
    "deletable": true,
    "run_control": {
     "read_only": false
    }
   },
   "outputs": [
    {
     "data": {
      "text/plain": [
       "{'2-T1-C-sj2-1.1.R',\n",
       " '30-600-sj2-1.1.R',\n",
       " '30-601-sj2-1.1.R',\n",
       " '30-606-sj2-1.1.R',\n",
       " '30-609-sj2-1.1.R',\n",
       " '30-706-sj2-1.1.R',\n",
       " '30-708-sj2-1.1.R',\n",
       " '30-711-sj2-1.1.R',\n",
       " '30-T60-sj2-1.1.R',\n",
       " '30-T63-sj2-1.1.R',\n",
       " '30-T64-sj2-1.1.R',\n",
       " '30-T65-sj2-1.1.R',\n",
       " '30-T66-sj2-1.1.R',\n",
       " '41-900-sj2-1.1.R',\n",
       " '41-M91-sj2-1.1.R',\n",
       " '90-521-sj2-1.1.R',\n",
       " '90-523-sj2-1.1.R',\n",
       " '90-549-sj2-1.1.R',\n",
       " '90-550-sj2-1.1.R',\n",
       " '92-N71-sj2-1.1.R',\n",
       " '98-810-X-sj2-1.1.R',\n",
       " '98-810-sj2-1.1.R',\n",
       " '98-829-sj2-1.1.R'}"
      ]
     },
     "execution_count": 2,
     "metadata": {},
     "output_type": "execute_result"
    }
   ],
   "source": [
    "routes"
   ]
  },
  {
   "cell_type": "code",
   "execution_count": null,
   "metadata": {
    "collapsed": true,
    "run_control": {}
   },
   "outputs": [],
   "source": []
  }
 ],
 "metadata": {
  "kernelspec": {
   "display_name": "Python 2",
   "language": "python",
   "name": "python2"
  },
  "language_info": {
   "codemirror_mode": {
    "name": "ipython",
    "version": 2
   },
   "file_extension": ".py",
   "mimetype": "text/x-python",
   "name": "python",
   "nbconvert_exporter": "python",
   "pygments_lexer": "ipython2",
   "version": "2.7.6"
  }
 },
 "nbformat": 4,
 "nbformat_minor": 0
}
