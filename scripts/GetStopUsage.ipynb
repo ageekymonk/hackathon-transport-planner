{
 "cells": [
  {
   "cell_type": "code",
   "execution_count": 1,
   "metadata": {
    "collapsed": true
   },
   "outputs": [],
   "source": [
    "%matplotlib inline\n",
    "\n",
    "import pandas as pd"
   ]
  },
  {
   "cell_type": "code",
   "execution_count": 47,
   "metadata": {
    "collapsed": false
   },
   "outputs": [],
   "source": [
    "with open('/Users/ramz.sivagurunathan/hacks/hackathon/repos/transport-analyser/data/interchangeInfo.json') as fp:\n",
    "    interchangeInfo = json.load(fp)\n",
    "    buses = []\n",
    "    for k,v in interchangeInfo.iteritems():\n",
    "        buses.extend(v['buses'])\n",
    "    buses = list(set(buses))"
   ]
  },
  {
   "cell_type": "code",
   "execution_count": 18,
   "metadata": {
    "collapsed": true
   },
   "outputs": [],
   "source": [
    "def nearly_equal(a,b,sig_fig=5):\n",
    "    return ( a==b or \n",
    "             int(a*10**sig_fig) == int(b*10**sig_fig)\n",
    "           )"
   ]
  },
  {
   "cell_type": "code",
   "execution_count": 2,
   "metadata": {
    "collapsed": true
   },
   "outputs": [],
   "source": [
    "df = pd.read_csv('/Users/ramz.sivagurunathan/hacks/hackathon/datasets/opal/OpalInsight-4May15.csv')"
   ]
  },
  {
   "cell_type": "code",
   "execution_count": 51,
   "metadata": {
    "collapsed": true
   },
   "outputs": [],
   "source": [
    "user_travel = df.groupby(['ORIGINLAT', 'ORIGINLONG'])"
   ]
  },
  {
   "cell_type": "code",
   "execution_count": 79,
   "metadata": {
    "collapsed": false
   },
   "outputs": [],
   "source": [
    "import json\n",
    "for bus in buses:\n",
    "    with open('/Users/ramz.sivagurunathan/hacks/hackathon/repos/transport-analyser/data/buses/{0}.json'.format(bus)) as fp:\n",
    "        bus_info = json.load(fp)\n",
    "        lat_long_info = map(lambda x: {'lat': x['lat'], 'lon': x['lon']}, bus_info['trips'][0]['stops'])\n",
    "        total_time = 0\n",
    "        total_users = 0\n",
    "        for geoinfo, data in user_travel:\n",
    "            journey_list = data[['MASKEDCIN', 'JOURNEYSEGMENTTIME']].values\n",
    "            for idx, elem in enumerate(lat_long_info):\n",
    "                if nearly_equal(float(elem['lat']), geoinfo[0], 4) and nearly_equal(float(elem['lon']), geoinfo[1], 4):\n",
    "                    for journey_val in journey_list:\n",
    "                        total_time = total_time + journey_val[1]\n",
    "                    total_users = total_users + (journey_list.size)/2\n",
    "                    bus_info['trips'][0]['stops'][idx]['usage'] = (journey_list.size)/2\n",
    "                    break\n",
    "        if total_users > 0:\n",
    "            bus_info['trips'][0]['avg_travel_time'] = total_time / total_users\n",
    "        else:\n",
    "            bus_info['trips'][0]['avg_travel_time'] = 0\n",
    "            \n",
    "    with open('/Users/ramz.sivagurunathan/hacks/hackathon/repos/transport-analyser/data/buses/{0}.json'.format(bus),'w') as fp:\n",
    "        json.dump(bus_info, fp, indent=4)"
   ]
  },
  {
   "cell_type": "code",
   "execution_count": 48,
   "metadata": {
    "collapsed": false
   },
   "outputs": [],
   "source": [
    "stops = {}\n",
    "for bus in buses:\n",
    "    with open('/Users/ramz.sivagurunathan/hacks/hackathon/repos/transport-analyser/data/buses/{0}.json'.format(bus)) as fp:\n",
    "        bus_info = json.load(fp)\n",
    "        for stop in bus_info['trips'][0]['stops']:\n",
    "            stops[stop['id']] = {'lat' : stop['lat'], 'long' : stop['lon'], 'name' : stop['name']}\n",
    "            "
   ]
  },
  {
   "cell_type": "code",
   "execution_count": 50,
   "metadata": {
    "collapsed": true
   },
   "outputs": [],
   "source": [
    "import csv\n",
    "with open('/Users/ramz.sivagurunathan/hacks/hackathon/repos/transport-analyser/data/bus_stops.csv', 'w') as fp:\n",
    "    writer = csv.writer(fp)\n",
    "    for k,v in stops.iteritems():\n",
    "        writer.writerow([v['name'], v['lat'], v['long']])\n"
   ]
  },
  {
   "cell_type": "code",
   "execution_count": null,
   "metadata": {
    "collapsed": true
   },
   "outputs": [],
   "source": [
    "import csv\n",
    "with open('/Users/ramz.sivagurunathan/hacks/hackathon/repos/transport-analyser/data/bus_stops.csv', 'w') as fp:\n",
    "    writer = csv.writer(fp)"
   ]
  }
 ],
 "metadata": {
  "kernelspec": {
   "display_name": "Python 2",
   "language": "python",
   "name": "python2"
  },
  "language_info": {
   "codemirror_mode": {
    "name": "ipython",
    "version": 2
   },
   "file_extension": ".py",
   "mimetype": "text/x-python",
   "name": "python",
   "nbconvert_exporter": "python",
   "pygments_lexer": "ipython2",
   "version": "2.7.6"
  }
 },
 "nbformat": 4,
 "nbformat_minor": 0
}
